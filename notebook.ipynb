{
  "nbformat": 4,
  "nbformat_minor": 0,
  "metadata": {
    "colab": {
      "name": "challengeData20.ipynb",
      "provenance": [],
      "collapsed_sections": []
    },
    "kernelspec": {
      "name": "python3",
      "display_name": "Python 3.8.3 64-bit ('base': conda)",
      "metadata": {
        "interpreter": {
          "hash": "87f7920b3bd72e9cf28f1350c3f53701b54d575b27078d1adff2becc590c19c9"
        }
      }
    }
  },
  "cells": [
    {
      "cell_type": "markdown",
      "metadata": {
        "id": "tUUIA0HSfREn"
      },
      "source": [
        "## Challenge data ENS Valeo"
      ]
    },
    {
      "cell_type": "code",
      "metadata": {
        "id": "9MlJ12pFfQRq"
      },
      "source": [
        "# Noureddine Khelifaoui\n",
        "\n",
        "import pandas as pd\n",
        "import matplotlib.pyplot as plt\n",
        "import seaborn as sns\n",
        "plt.style.use('ggplot')\n",
        "import numpy as np\n",
        "\n",
        "\n",
        "from sklearn import preprocessing\n",
        "from sklearn.impute import SimpleImputer\n",
        "from sklearn.experimental import enable_iterative_imputer\n",
        "from sklearn.impute import IterativeImputer\n",
        "\n",
        "from imblearn.over_sampling import SMOTE\n",
        "\n",
        "from sklearn.model_selection import cross_val_score\n",
        "from sklearn.model_selection import GridSearchCV\n",
        "from sklearn.model_selection import train_test_split\n",
        "from sklearn import metrics\n",
        "\n",
        "from sklearn.naive_bayes import GaussianNB\n",
        "from sklearn.ensemble import RandomForestClassifier\n",
        "from sklearn.neighbors import KNeighborsClassifier\n",
        "from sklearn.linear_model import LogisticRegression\n",
        "\n",
        "import io\n",
        "\n",
        "\n",
        "df_Xtrain = pd.read_csv('https://www.lamsade.dauphine.fr/~airiau/Teaching/M1-ML/traininginputs.csv')\n",
        "#X=df.loc[:,].values\n",
        "\n",
        "df_yTrain = pd.read_csv('https://www.lamsade.dauphine.fr/~airiau/Teaching/M1-ML/trainingoutput.csv')\n",
        "#=df.loc[:].values\n",
        "\n",
        "df_Xtest = pd.read_csv('https://www.lamsade.dauphine.fr/~airiau/Teaching/M1-ML/testinputs.csv')\n",
        "#_val = df.loc[:,]"
      ],
      "execution_count": 44,
      "outputs": []
    },
    {
      "cell_type": "markdown",
      "metadata": {
        "id": "77QoFLohB8JX"
      },
      "source": [
        "# avoir une idée sur les données"
      ]
    },
    {
      "cell_type": "code",
      "metadata": {
        "colab": {
          "base_uri": "https://localhost:8080/"
        },
        "id": "Xlt5Wrg3B8Ja",
        "outputId": "79a6b494-47b3-4c31-fca4-ee2e6f5e9e15"
      },
      "source": [
        "df_Xtrain.info()"
      ],
      "execution_count": 26,
      "outputs": [
        {
          "output_type": "stream",
          "text": [
            "<class 'pandas.core.frame.DataFrame'>\n",
            "RangeIndex: 34515 entries, 0 to 34514\n",
            "Data columns (total 14 columns):\n",
            " #   Column                           Non-Null Count  Dtype  \n",
            "---  ------                           --------------  -----  \n",
            " 0   PROC_TRACEINFO                   34515 non-null  object \n",
            " 1   OP070_V_1_angle_value            34515 non-null  float64\n",
            " 2   OP090_SnapRingPeakForce_value    34515 non-null  float64\n",
            " 3   OP070_V_2_angle_value            34515 non-null  float64\n",
            " 4   OP120_Rodage_I_mesure_value      34515 non-null  float64\n",
            " 5   OP090_SnapRingFinalStroke_value  34515 non-null  float64\n",
            " 6   OP110_Vissage_M8_torque_value    34515 non-null  float64\n",
            " 7   OP100_Capuchon_insertion_mesure  15888 non-null  float64\n",
            " 8   OP120_Rodage_U_mesure_value      34515 non-null  float64\n",
            " 9   OP070_V_1_torque_value           34515 non-null  float64\n",
            " 10  OP090_StartLinePeakForce_value   34515 non-null  float64\n",
            " 11  OP110_Vissage_M8_angle_value     34515 non-null  float64\n",
            " 12  OP090_SnapRingMidPointForce_val  34515 non-null  float64\n",
            " 13  OP070_V_2_torque_value           34515 non-null  float64\n",
            "dtypes: float64(13), object(1)\n",
            "memory usage: 3.7+ MB\n"
          ],
          "name": "stdout"
        }
      ]
    },
    {
      "cell_type": "markdown",
      "metadata": {
        "id": "P9jZElMl7Ykx"
      },
      "source": [
        "on remarque que pour l'attribut \"OP100_Capuchon_insertion_mesure\" , la moitié des valeurs sont manquantes"
      ]
    },
    {
      "cell_type": "code",
      "metadata": {
        "colab": {
          "base_uri": "https://localhost:8080/",
          "height": 314
        },
        "id": "LvJSlW0tB8Ja",
        "outputId": "b5e4de53-f74b-466d-bbcc-5e46e41dfac9"
      },
      "source": [
        "df_Xtrain.describe()"
      ],
      "execution_count": 27,
      "outputs": [
        {
          "output_type": "execute_result",
          "data": {
            "text/html": [
              "<div>\n",
              "<style scoped>\n",
              "    .dataframe tbody tr th:only-of-type {\n",
              "        vertical-align: middle;\n",
              "    }\n",
              "\n",
              "    .dataframe tbody tr th {\n",
              "        vertical-align: top;\n",
              "    }\n",
              "\n",
              "    .dataframe thead th {\n",
              "        text-align: right;\n",
              "    }\n",
              "</style>\n",
              "<table border=\"1\" class=\"dataframe\">\n",
              "  <thead>\n",
              "    <tr style=\"text-align: right;\">\n",
              "      <th></th>\n",
              "      <th>OP070_V_1_angle_value</th>\n",
              "      <th>OP090_SnapRingPeakForce_value</th>\n",
              "      <th>OP070_V_2_angle_value</th>\n",
              "      <th>OP120_Rodage_I_mesure_value</th>\n",
              "      <th>OP090_SnapRingFinalStroke_value</th>\n",
              "      <th>OP110_Vissage_M8_torque_value</th>\n",
              "      <th>OP100_Capuchon_insertion_mesure</th>\n",
              "      <th>OP120_Rodage_U_mesure_value</th>\n",
              "      <th>OP070_V_1_torque_value</th>\n",
              "      <th>OP090_StartLinePeakForce_value</th>\n",
              "      <th>OP110_Vissage_M8_angle_value</th>\n",
              "      <th>OP090_SnapRingMidPointForce_val</th>\n",
              "      <th>OP070_V_2_torque_value</th>\n",
              "    </tr>\n",
              "  </thead>\n",
              "  <tbody>\n",
              "    <tr>\n",
              "      <th>count</th>\n",
              "      <td>34515.000000</td>\n",
              "      <td>34515.000000</td>\n",
              "      <td>34515.000000</td>\n",
              "      <td>34515.000000</td>\n",
              "      <td>34515.000000</td>\n",
              "      <td>34515.000000</td>\n",
              "      <td>15888.000000</td>\n",
              "      <td>34515.000000</td>\n",
              "      <td>34515.000000</td>\n",
              "      <td>34515.000000</td>\n",
              "      <td>34515.000000</td>\n",
              "      <td>34515.000000</td>\n",
              "      <td>34515.000000</td>\n",
              "    </tr>\n",
              "    <tr>\n",
              "      <th>mean</th>\n",
              "      <td>159.906922</td>\n",
              "      <td>156.915055</td>\n",
              "      <td>159.618236</td>\n",
              "      <td>113.350222</td>\n",
              "      <td>11.970190</td>\n",
              "      <td>12.256785</td>\n",
              "      <td>0.388173</td>\n",
              "      <td>11.971027</td>\n",
              "      <td>6.548403</td>\n",
              "      <td>23.630152</td>\n",
              "      <td>17.878398</td>\n",
              "      <td>97.700978</td>\n",
              "      <td>6.550867</td>\n",
              "    </tr>\n",
              "    <tr>\n",
              "      <th>std</th>\n",
              "      <td>15.662650</td>\n",
              "      <td>11.271492</td>\n",
              "      <td>15.091490</td>\n",
              "      <td>3.528522</td>\n",
              "      <td>0.169873</td>\n",
              "      <td>0.065319</td>\n",
              "      <td>0.024425</td>\n",
              "      <td>0.003050</td>\n",
              "      <td>0.097602</td>\n",
              "      <td>2.546341</td>\n",
              "      <td>6.785079</td>\n",
              "      <td>6.837714</td>\n",
              "      <td>0.094814</td>\n",
              "    </tr>\n",
              "    <tr>\n",
              "      <th>min</th>\n",
              "      <td>101.800000</td>\n",
              "      <td>0.000000</td>\n",
              "      <td>82.000000</td>\n",
              "      <td>99.990000</td>\n",
              "      <td>0.000000</td>\n",
              "      <td>12.030000</td>\n",
              "      <td>0.240000</td>\n",
              "      <td>11.970000</td>\n",
              "      <td>5.670000</td>\n",
              "      <td>0.000000</td>\n",
              "      <td>6.300000</td>\n",
              "      <td>0.000000</td>\n",
              "      <td>5.740000</td>\n",
              "    </tr>\n",
              "    <tr>\n",
              "      <th>25%</th>\n",
              "      <td>148.700000</td>\n",
              "      <td>149.210000</td>\n",
              "      <td>149.400000</td>\n",
              "      <td>111.040000</td>\n",
              "      <td>11.850000</td>\n",
              "      <td>12.210000</td>\n",
              "      <td>0.380000</td>\n",
              "      <td>11.970000</td>\n",
              "      <td>6.410000</td>\n",
              "      <td>22.280000</td>\n",
              "      <td>13.500000</td>\n",
              "      <td>94.310000</td>\n",
              "      <td>6.420000</td>\n",
              "    </tr>\n",
              "    <tr>\n",
              "      <th>50%</th>\n",
              "      <td>158.000000</td>\n",
              "      <td>156.180000</td>\n",
              "      <td>158.700000</td>\n",
              "      <td>113.160000</td>\n",
              "      <td>12.040000</td>\n",
              "      <td>12.260000</td>\n",
              "      <td>0.390000</td>\n",
              "      <td>11.970000</td>\n",
              "      <td>6.610000</td>\n",
              "      <td>23.880000</td>\n",
              "      <td>16.400000</td>\n",
              "      <td>98.500000</td>\n",
              "      <td>6.610000</td>\n",
              "    </tr>\n",
              "    <tr>\n",
              "      <th>75%</th>\n",
              "      <td>169.300000</td>\n",
              "      <td>164.380000</td>\n",
              "      <td>168.900000</td>\n",
              "      <td>115.380000</td>\n",
              "      <td>12.080000</td>\n",
              "      <td>12.300000</td>\n",
              "      <td>0.410000</td>\n",
              "      <td>11.970000</td>\n",
              "      <td>6.620000</td>\n",
              "      <td>25.290000</td>\n",
              "      <td>20.200000</td>\n",
              "      <td>102.230000</td>\n",
              "      <td>6.610000</td>\n",
              "    </tr>\n",
              "    <tr>\n",
              "      <th>max</th>\n",
              "      <td>198.300000</td>\n",
              "      <td>196.920000</td>\n",
              "      <td>198.100000</td>\n",
              "      <td>177.950000</td>\n",
              "      <td>12.190000</td>\n",
              "      <td>12.500000</td>\n",
              "      <td>0.420000</td>\n",
              "      <td>11.990000</td>\n",
              "      <td>6.670000</td>\n",
              "      <td>43.410000</td>\n",
              "      <td>84.600000</td>\n",
              "      <td>127.300000</td>\n",
              "      <td>6.670000</td>\n",
              "    </tr>\n",
              "  </tbody>\n",
              "</table>\n",
              "</div>"
            ],
            "text/plain": [
              "       OP070_V_1_angle_value  ...  OP070_V_2_torque_value\n",
              "count           34515.000000  ...            34515.000000\n",
              "mean              159.906922  ...                6.550867\n",
              "std                15.662650  ...                0.094814\n",
              "min               101.800000  ...                5.740000\n",
              "25%               148.700000  ...                6.420000\n",
              "50%               158.000000  ...                6.610000\n",
              "75%               169.300000  ...                6.610000\n",
              "max               198.300000  ...                6.670000\n",
              "\n",
              "[8 rows x 13 columns]"
            ]
          },
          "metadata": {
            "tags": []
          },
          "execution_count": 27
        }
      ]
    },
    {
      "cell_type": "markdown",
      "metadata": {
        "id": "aIU-U6bgB8Jb"
      },
      "source": [
        "## visualiser la distribution des différents attributs"
      ]
    },
    {
      "cell_type": "code",
      "metadata": {
        "id": "XT8GtGeVDXnq"
      },
      "source": [
        "df_Xtrain.drop(\"PROC_TRACEINFO\",axis=1,inplace=True)\r\n",
        "PROC_TRACEINFO_Xtest = df_Xtest[\"PROC_TRACEINFO\"]\r\n",
        "df_Xtest.drop(\"PROC_TRACEINFO\",axis=1,inplace=True)\r\n",
        "y_train = df_yTrain[\"Binar OP130_Resultat_Global_v\"].to_numpy()"
      ],
      "execution_count": 45,
      "outputs": []
    },
    {
      "cell_type": "code",
      "metadata": {
        "colab": {
          "base_uri": "https://localhost:8080/",
          "height": 1000
        },
        "id": "St8Mu7bsB8Jb",
        "outputId": "01417ec9-2dcd-40ef-9409-365621590336"
      },
      "source": [
        "for feature in df_Xtrain.columns:\n",
        "    sns.displot(df_Xtrain, x=feature, hue=df_yTrain.loc[:,\"Binar OP130_Resultat_Global_v\"], multiple=\"stack\")"
      ],
      "execution_count": 30,
      "outputs": [
        {
          "output_type": "display_data",
          "data": {
            "image/png": "[encoded data removed]",
            "text/plain": [
              "<Figure size 523.75x360 with 1 Axes>"
            ]
          },
          "metadata": {
            "tags": []
          }
        },
        {
          "output_type": "display_data",
          "data": {
            "image/png": "[encoded data removed]",
            "text/plain": [
              "<Figure size 523.75x360 with 1 Axes>"
            ]
          },
          "metadata": {
            "tags": []
          }
        },
        {
          "output_type": "display_data",
          "data": {
            "image/png": "[encoded data removed]",
            "text/plain": [
              "<Figure size 523.75x360 with 1 Axes>"
            ]
          },
          "metadata": {
            "tags": []
          }
        },
        {
          "output_type": "display_data",
          "data": {
            "image/png": "[encoded data removed]",
            "text/plain": [
              "<Figure size 523.75x360 with 1 Axes>"
            ]
          },
          "metadata": {
            "tags": []
          }
        },
        {
          "output_type": "display_data",
          "data": {
            "image/png": "[encoded data removed]",
            "text/plain": [
              "<Figure size 523.75x360 with 1 Axes>"
            ]
          },
          "metadata": {
            "tags": []
          }
        },
        {
          "output_type": "display_data",
          "data": {
            "image/png": "[encoded data removed]",
            "text/plain": [
              "<Figure size 523.75x360 with 1 Axes>"
            ]
          },
          "metadata": {
            "tags": []
          }
        },
        {
          "output_type": "display_data",
          "data": {
            "image/png": "[encoded data removed]",
            "text/plain": [
              "<Figure size 523.75x360 with 1 Axes>"
            ]
          },
          "metadata": {
            "tags": []
          }
        },
        {
          "output_type": "display_data",
          "data": {
            "image/png": "[encoded data removed]",
            "text/plain": [
              "<Figure size 523.75x360 with 1 Axes>"
            ]
          },
          "metadata": {
            "tags": []
          }
        },
        {
          "output_type": "display_data",
          "data": {
            "image/png": "[encoded data removed]",
            "text/plain": [
              "<Figure size 523.75x360 with 1 Axes>"
            ]
          },
          "metadata": {
            "tags": []
          }
        },
        {
          "output_type": "display_data",
          "data": {
            "image/png": "[encoded data removed]",
            "text/plain": [
              "<Figure size 523.75x360 with 1 Axes>"
            ]
          },
          "metadata": {
            "tags": []
          }
        },
        {
          "output_type": "display_data",
          "data": {
            "image/png": "[encoded data removed]",
            "text/plain": [
              "<Figure size 523.75x360 with 1 Axes>"
            ]
          },
          "metadata": {
            "tags": []
          }
        },
        {
          "output_type": "display_data",
          "data": {
            "image/png": "[encoded data removed]",
            "text/plain": [
              "<Figure size 523.75x360 with 1 Axes>"
            ]
          },
          "metadata": {
            "tags": []
          }
        },
        {
          "output_type": "display_data",
          "data": {
            "image/png": "[encoded data removed]",
            "text/plain": [
              "<Figure size 523.75x360 with 1 Axes>"
            ]
          },
          "metadata": {
            "tags": []
          }
        }
      ]
    },
    {
      "cell_type": "code",
      "metadata": {
        "colab": {
          "base_uri": "https://localhost:8080/",
          "height": 317
        },
        "id": "mRdu9mcrB8Jb",
        "outputId": "cbf23d0f-6922-41f8-e633-e0833248548e"
      },
      "source": [
        "print(df_yTrain[\"Binar OP130_Resultat_Global_v\"].value_counts())\n",
        "df_yTrain[\"Binar OP130_Resultat_Global_v\"].value_counts().plot(kind='pie')"
      ],
      "execution_count": 46,
      "outputs": [
        {
          "output_type": "stream",
          "text": [
            "0    34210\n",
            "1      305\n",
            "Name: Binar OP130_Resultat_Global_v, dtype: int64\n"
          ],
          "name": "stdout"
        },
        {
          "output_type": "execute_result",
          "data": {
            "text/plain": [
              "<matplotlib.axes._subplots.AxesSubplot at 0x7f3a87034710>"
            ]
          },
          "metadata": {
            "tags": []
          },
          "execution_count": 46
        },
        {
          "output_type": "display_data",
          "data": {
            "image/png": "[encoded data removed]",
            "text/plain": [
              "<Figure size 432x288 with 1 Axes>"
            ]
          },
          "metadata": {
            "tags": []
          }
        }
      ]
    },
    {
      "cell_type": "markdown",
      "metadata": {
        "id": "ePX_8fdeB8Jc"
      },
      "source": [
        "## corriger le problème des valeurs manquantes"
      ]
    },
    {
      "cell_type": "code",
      "metadata": {
        "id": "3tACm3b1PWjt"
      },
      "source": [
        "def benchmarkTechnique(xtrain):\r\n",
        "  rf = RandomForestClassifier()\r\n",
        "  scores_rf  = cross_val_score(rf, xtrain, y_train, cv=5, scoring='roc_auc')\r\n",
        "  print(\"random forest : \",scores_rf)\r\n",
        "  print(\"scores_rf mean :\",scores_rf.mean())\r\n"
      ],
      "execution_count": 47,
      "outputs": []
    },
    {
      "cell_type": "markdown",
      "metadata": {
        "id": "lEDA1vlFB8Jc"
      },
      "source": [
        "1. supprimer l'attribut: \"OP100_Capuchon_insertion_mesure\" "
      ]
    },
    {
      "cell_type": "code",
      "metadata": {
        "id": "Rn3a5NA9B8Jc"
      },
      "source": [
        "df_Xtrain1 = df_Xtrain.copy()\n",
        "df_Xtrain1.drop(\"OP100_Capuchon_insertion_mesure\",axis=1,inplace=True)\n"
      ],
      "execution_count": 48,
      "outputs": []
    },
    {
      "cell_type": "markdown",
      "metadata": {
        "id": "tLSbM23KB8Jc"
      },
      "source": [
        "tester les donnés avec l'algorithme RandomForest "
      ]
    },
    {
      "cell_type": "code",
      "metadata": {
        "colab": {
          "base_uri": "https://localhost:8080/"
        },
        "id": "iOizeed5P_IV",
        "outputId": "0bd81c3a-948d-4f8b-cb7e-e3f33f6ea9a2"
      },
      "source": [
        "benchmarkTechnique(df_Xtrain1.to_numpy())"
      ],
      "execution_count": null,
      "outputs": [
        {
          "output_type": "stream",
          "text": [
            "random forest :  [0.59269531 0.57122953 0.56997882 0.55141101 0.54825667]\n",
            "scores_rf mean : 0.5667142672308452\n"
          ],
          "name": "stdout"
        }
      ]
    },
    {
      "cell_type": "markdown",
      "metadata": {
        "id": "DVvAyXQDFEmM"
      },
      "source": [
        "2. utilser la moyenne pour remplacer les valeurs manquantes : "
      ]
    },
    {
      "cell_type": "code",
      "metadata": {
        "id": "xWU4eZc4KzZ4"
      },
      "source": [
        "df_Xtrain2 = df_Xtrain.copy()"
      ],
      "execution_count": 49,
      "outputs": []
    },
    {
      "cell_type": "code",
      "metadata": {
        "id": "anN2AVaWB8Jf"
      },
      "source": [
        "from sklearn.impute import SimpleImputer\r\n",
        "\r\n",
        "df_Xtrain2 = df_Xtrain\r\n",
        "imp = SimpleImputer(missing_values=np.nan, strategy='median')\r\n",
        "imp = imp.fit(df_Xtrain2[['OP100_Capuchon_insertion_mesure']])\r\n",
        "df_Xtrain2['OP100_Capuchon_insertion_mesure'] = imp.transform(df_Xtrain2[['OP100_Capuchon_insertion_mesure']])\r\n",
        "\r\n"
      ],
      "execution_count": 50,
      "outputs": []
    },
    {
      "cell_type": "code",
      "metadata": {
        "colab": {
          "base_uri": "https://localhost:8080/"
        },
        "id": "gXLE0o2pO5pg",
        "outputId": "b5747d42-ea86-4411-83ed-ead7255ad8fc"
      },
      "source": [
        "benchmarkTechnique(df_Xtrain2.to_numpy())"
      ],
      "execution_count": null,
      "outputs": [
        {
          "output_type": "stream",
          "text": [
            "random forest :  [0.58637346 0.59751607 0.51901467 0.60211878 0.52445958]\n",
            "scores_rf mean : 0.5658965119009397\n"
          ],
          "name": "stdout"
        }
      ]
    },
    {
      "cell_type": "markdown",
      "metadata": {
        "id": "ujMFatZFSc8C"
      },
      "source": [
        "3. utilser un estimateur qui est une fonction des autres attributs"
      ]
    },
    {
      "cell_type": "code",
      "metadata": {
        "colab": {
          "base_uri": "https://localhost:8080/"
        },
        "id": "pbrSd3cmQsn8",
        "outputId": "1a81cfc0-dabc-4dca-c682-d6344cd07d96"
      },
      "source": [
        "from sklearn.experimental import enable_iterative_imputer\r\n",
        "from sklearn.impute import IterativeImputer\r\n",
        "\r\n",
        "df_Xtrain3 = df_Xtrain.copy()\r\n",
        "\r\n",
        "itImp = IterativeImputer()\r\n",
        "itImp.fit_transform(df_Xtrain3[['OP100_Capuchon_insertion_mesure']])\r\n"
      ],
      "execution_count": 51,
      "outputs": [
        {
          "output_type": "execute_result",
          "data": {
            "text/plain": [
              "array([[0.39],\n",
              "       [0.39],\n",
              "       [0.39],\n",
              "       ...,\n",
              "       [0.39],\n",
              "       [0.39],\n",
              "       [0.39]])"
            ]
          },
          "metadata": {
            "tags": []
          },
          "execution_count": 51
        }
      ]
    },
    {
      "cell_type": "code",
      "metadata": {
        "colab": {
          "base_uri": "https://localhost:8080/"
        },
        "id": "x4kCx1OnTYyR",
        "outputId": "c94b2665-2329-4764-fbc4-31f162180d76"
      },
      "source": [
        "benchmarkTechnique(df_Xtrain3.to_numpy())"
      ],
      "execution_count": null,
      "outputs": [
        {
          "output_type": "stream",
          "text": [
            "random forest :  [0.56488851 0.56718508 0.54666093 0.55378784 0.5568056 ]\n",
            "scores_rf mean : 0.5578655938969048\n"
          ],
          "name": "stdout"
        }
      ]
    },
    {
      "cell_type": "markdown",
      "metadata": {
        "id": "Y2DFr3po8ZIm"
      },
      "source": [
        "on remarque que la moyenne des auroc pour Random Forest  avec des données imputé avec la méthode 3 est similaire à celles obtenue  avec les deux première méthodes , donc on a choisi de supprimer l'attribut puisque l'imputaion n'apoorte pas plus d'information pour l'algorithme et la variance est réduite avec ces méthode d'imputation ce qui ne favorise pas l'apprentissage. "
      ]
    },
    {
      "cell_type": "code",
      "metadata": {
        "id": "IQNdDS7YD89x"
      },
      "source": [
        "X_train = df_Xtrain1.to_numpy()\r\n",
        "df_Xtest.drop(\"OP100_Capuchon_insertion_mesure\",axis=1,inplace=True)\r\n",
        "X_test = df_Xtest.to_numpy()"
      ],
      "execution_count": 52,
      "outputs": []
    },
    {
      "cell_type": "markdown",
      "metadata": {
        "id": "ob9vaJFc9eD7"
      },
      "source": [
        "## 1. Random Forest : "
      ]
    },
    {
      "cell_type": "markdown",
      "metadata": {
        "id": "FOndkAQH-qc5"
      },
      "source": [
        "pour cet algorithme , on n'a pas besoin de normaliser ou standardiser les données.l'objectif est de trouver les meilleur hyperparamère qui donne un bon score auroc"
      ]
    },
    {
      "cell_type": "code",
      "metadata": {
        "id": "wk0n7FH5BmOu"
      },
      "source": [
        "rf = RandomForestClassifier(class_weight='balanced')\r\n",
        "randomForest_parameters_grid = dict(criterion=[\"gini\",\"entropy\"],min_samples_split=[2,5,8])"
      ],
      "execution_count": 56,
      "outputs": []
    },
    {
      "cell_type": "code",
      "metadata": {
        "id": "13DlOvNQEgbh"
      },
      "source": [
        "randomForest_grid = GridSearchCV(rf,randomForest_parameters_grid, cv=5, scoring='roc_auc',n_jobs=-1)"
      ],
      "execution_count": 57,
      "outputs": []
    },
    {
      "cell_type": "code",
      "metadata": {
        "colab": {
          "base_uri": "https://localhost:8080/"
        },
        "id": "0QpysJfCG3nz",
        "outputId": "1d0ab322-1756-4ffd-f006-3ca654540b03"
      },
      "source": [
        "randomForest_grid.fit(X_train,y_train)"
      ],
      "execution_count": 58,
      "outputs": [
        {
          "output_type": "execute_result",
          "data": {
            "text/plain": [
              "GridSearchCV(cv=5, error_score=nan,\n",
              "             estimator=RandomForestClassifier(bootstrap=True, ccp_alpha=0.0,\n",
              "                                              class_weight='balanced',\n",
              "                                              criterion='gini', max_depth=None,\n",
              "                                              max_features='auto',\n",
              "                                              max_leaf_nodes=None,\n",
              "                                              max_samples=None,\n",
              "                                              min_impurity_decrease=0.0,\n",
              "                                              min_impurity_split=None,\n",
              "                                              min_samples_leaf=1,\n",
              "                                              min_samples_split=2,\n",
              "                                              min_weight_fraction_leaf=0.0,\n",
              "                                              n_estimators=100, n_jobs=None,\n",
              "                                              oob_score=False,\n",
              "                                              random_state=None, verbose=0,\n",
              "                                              warm_start=False),\n",
              "             iid='deprecated', n_jobs=-1,\n",
              "             param_grid={'criterion': ['gini', 'entropy'],\n",
              "                         'min_samples_split': [2, 5, 8]},\n",
              "             pre_dispatch='2*n_jobs', refit=True, return_train_score=False,\n",
              "             scoring='roc_auc', verbose=0)"
            ]
          },
          "metadata": {
            "tags": []
          },
          "execution_count": 58
        }
      ]
    },
    {
      "cell_type": "code",
      "metadata": {
        "colab": {
          "base_uri": "https://localhost:8080/"
        },
        "id": "POy_lICDIBoz",
        "outputId": "f3eb966b-020a-47f1-9d54-0e271eecdf5c"
      },
      "source": [
        "print(randomForest_grid.best_score_)\r\n",
        "print(randomForest_grid.best_params_)"
      ],
      "execution_count": 62,
      "outputs": [
        {
          "output_type": "stream",
          "text": [
            "0.5912658555402743\n",
            "{'criterion': 'entropy', 'min_samples_split': 8}\n"
          ],
          "name": "stdout"
        }
      ]
    },
    {
      "cell_type": "markdown",
      "metadata": {
        "id": "MEdG7dZhF7-7"
      },
      "source": [
        "### sur-échantillonnage "
      ]
    },
    {
      "cell_type": "code",
      "metadata": {
        "colab": {
          "base_uri": "https://localhost:8080/"
        },
        "id": "0Oq6vm11MjZC",
        "outputId": "1bf6c900-5185-46ed-d01b-874ed58acebc"
      },
      "source": [
        "oversamling = SMOTE(sampling_strategy=0.3)\r\n",
        "X_oversampled30, y_oversampled30 = oversamling.fit_resample(X_train, y_train)\r\n",
        "\r\n"
      ],
      "execution_count": 65,
      "outputs": [
        {
          "output_type": "stream",
          "text": [
            "/usr/local/lib/python3.6/dist-packages/sklearn/utils/deprecation.py:87: FutureWarning: Function safe_indexing is deprecated; safe_indexing is deprecated in version 0.22 and will be removed in version 0.24.\n",
            "  warnings.warn(msg, category=FutureWarning)\n"
          ],
          "name": "stderr"
        }
      ]
    },
    {
      "cell_type": "code",
      "metadata": {
        "colab": {
          "base_uri": "https://localhost:8080/"
        },
        "id": "Yydv-3xhHGhL",
        "outputId": "113a0105-eca0-4972-8788-30e4689b349f"
      },
      "source": [
        "rf30 = RandomForestClassifier(class_weight='balanced')\r\n",
        "randomForest_parameters_grid = dict(criterion=[\"gini\",\"entropy\"],min_samples_split=[2,5,8])\r\n",
        "randomForest_grid = GridSearchCV(rf30,randomForest_parameters_grid, cv=5, scoring='roc_auc',n_jobs=-1)\r\n",
        "randomForest_grid.fit(X_oversampled30,y_oversampled30)\r\n",
        "\r\n"
      ],
      "execution_count": 66,
      "outputs": [
        {
          "output_type": "execute_result",
          "data": {
            "text/plain": [
              "GridSearchCV(cv=5, error_score=nan,\n",
              "             estimator=RandomForestClassifier(bootstrap=True, ccp_alpha=0.0,\n",
              "                                              class_weight='balanced',\n",
              "                                              criterion='gini', max_depth=None,\n",
              "                                              max_features='auto',\n",
              "                                              max_leaf_nodes=None,\n",
              "                                              max_samples=None,\n",
              "                                              min_impurity_decrease=0.0,\n",
              "                                              min_impurity_split=None,\n",
              "                                              min_samples_leaf=1,\n",
              "                                              min_samples_split=2,\n",
              "                                              min_weight_fraction_leaf=0.0,\n",
              "                                              n_estimators=100, n_jobs=None,\n",
              "                                              oob_score=False,\n",
              "                                              random_state=None, verbose=0,\n",
              "                                              warm_start=False),\n",
              "             iid='deprecated', n_jobs=-1,\n",
              "             param_grid={'criterion': ['gini', 'entropy'],\n",
              "                         'min_samples_split': [2, 5, 8]},\n",
              "             pre_dispatch='2*n_jobs', refit=True, return_train_score=False,\n",
              "             scoring='roc_auc', verbose=0)"
            ]
          },
          "metadata": {
            "tags": []
          },
          "execution_count": 66
        }
      ]
    },
    {
      "cell_type": "code",
      "metadata": {
        "colab": {
          "base_uri": "https://localhost:8080/"
        },
        "id": "D5v2ykhcKjsE",
        "outputId": "a0243332-0387-408d-e13b-71b1f3fb87b7"
      },
      "source": [
        "print(randomForest_grid.best_score_)\r\n",
        "print(randomForest_grid.best_params_)\r\n"
      ],
      "execution_count": 67,
      "outputs": [
        {
          "output_type": "stream",
          "text": [
            "0.999238397403593\n",
            "{'criterion': 'gini', 'min_samples_split': 2}\n"
          ],
          "name": "stdout"
        }
      ]
    },
    {
      "cell_type": "code",
      "metadata": {
        "id": "VzNnJuDqLOac"
      },
      "source": [
        "y_rf10_predictions = randomForest_grid.predict(X_test)"
      ],
      "execution_count": null,
      "outputs": []
    },
    {
      "cell_type": "code",
      "metadata": {
        "id": "Y0zrKVhzNLIE"
      },
      "source": [
        "def create_SubmissionCSVFile(name,y_predictions):\r\n",
        "    df = pd.DataFrame(data={'PROC_TRACEINFO':PROC_TRACEINFO_Xtest , 'Binar OP130_Resultat_Global_v': y_predictions})\r\n",
        "    df.to_csv(name,index=False)"
      ],
      "execution_count": 12,
      "outputs": []
    },
    {
      "cell_type": "code",
      "metadata": {
        "id": "oVfa9Hx5NMzx"
      },
      "source": [
        "create_SubmissionCSVFile(\"randomForest_oversampling10.csv\",y_rf10_predictions)"
      ],
      "execution_count": null,
      "outputs": []
    },
    {
      "cell_type": "markdown",
      "metadata": {
        "id": "Lo4bBeRkTlpH"
      },
      "source": [
        "## Naive Bayes"
      ]
    },
    {
      "cell_type": "code",
      "metadata": {
        "colab": {
          "base_uri": "https://localhost:8080/"
        },
        "id": "_BlRMU-EOJ1o",
        "outputId": "65ce9528-f865-495e-e257-c07125231ccd"
      },
      "source": [
        "Nb = GaussianNB()\r\n",
        "Nb_cv = cross_val_score(Nb, X_train, y_train, cv = 5,scoring='roc_auc')\r\n",
        "print(Nb_cv.mean())"
      ],
      "execution_count": 68,
      "outputs": [
        {
          "output_type": "stream",
          "text": [
            "0.6368183974583215\n"
          ],
          "name": "stdout"
        }
      ]
    },
    {
      "cell_type": "code",
      "metadata": {
        "colab": {
          "base_uri": "https://localhost:8080/"
        },
        "id": "_DRBR3s_Y-5y",
        "outputId": "d592d8b1-66c7-4b8f-ef2f-005fcd56e177"
      },
      "source": [
        "Nb_cv_oversampling = cross_val_score(Nb, X_oversampled30, y_oversampled30, cv = 5,scoring='roc_auc')\r\n",
        "print(Nb_cv_oversampling.mean())"
      ],
      "execution_count": 69,
      "outputs": [
        {
          "output_type": "stream",
          "text": [
            "0.7287935518254491\n"
          ],
          "name": "stdout"
        }
      ]
    },
    {
      "cell_type": "code",
      "metadata": {
        "colab": {
          "base_uri": "https://localhost:8080/"
        },
        "id": "t71-Yi_BahIx",
        "outputId": "7b42ebf8-e8a5-4f1c-e050-c41700489996"
      },
      "source": [
        "Nb.fit(X_oversampled30,y_oversampled30)"
      ],
      "execution_count": 70,
      "outputs": [
        {
          "output_type": "execute_result",
          "data": {
            "text/plain": [
              "GaussianNB(priors=None, var_smoothing=1e-09)"
            ]
          },
          "metadata": {
            "tags": []
          },
          "execution_count": 70
        }
      ]
    },
    {
      "cell_type": "code",
      "metadata": {
        "id": "ifLENb8xauEI"
      },
      "source": [
        "y_Nb_oversampled30 =  Nb.predict(X_test)"
      ],
      "execution_count": 71,
      "outputs": []
    },
    {
      "cell_type": "code",
      "metadata": {
        "id": "rFycXGZWbH8n"
      },
      "source": [
        "create_SubmissionCSVFile('naiveBayes_oversampling30.csv',y_Nb_oversampled30)"
      ],
      "execution_count": null,
      "outputs": []
    },
    {
      "cell_type": "markdown",
      "metadata": {
        "id": "lzoqM0Ha5RvJ"
      },
      "source": [
        "pour les prochains algorithmes qu'on va utilser (Knn, classification logistique, réseaux de neuronnes)  il faut normaliser les données car ces algorithmes sont sensibles au différentes échelles "
      ]
    },
    {
      "cell_type": "code",
      "metadata": {
        "id": "3gYDmZ7h61Mo"
      },
      "source": [
        "X_train_normalised = preprocessing.normalize(X_train)\r\n",
        "X_oversampled30_normalised = preprocessing.normalize(X_oversampled30)\r\n",
        "X_test_normalised = preprocessing.normalize(X_test)"
      ],
      "execution_count": 72,
      "outputs": []
    },
    {
      "cell_type": "markdown",
      "metadata": {
        "id": "FTRVfMTKcrsQ"
      },
      "source": [
        "##Knn"
      ]
    },
    {
      "cell_type": "markdown",
      "metadata": {
        "id": "T-Bq2OWD8WNf"
      },
      "source": [
        "puisque on sait que Knn est trés sensible au données déséquilibré , on utilise les données obtenues par le sur-échantillonnage"
      ]
    },
    {
      "cell_type": "code",
      "metadata": {
        "colab": {
          "base_uri": "https://localhost:8080/"
        },
        "id": "e-M6prTZuJ-p",
        "outputId": "f4d640ed-bba4-463b-b0c3-d6d58642c172"
      },
      "source": [
        "knn = KNeighborsClassifier()\r\n",
        "knn_grid_parameters = dict(n_neighbors=[i for i in range(3,16,2)],weights=[\"uniform\",\"distance\"],metric=[\"euclidean\",\"manhattan\",\"chebyshev\"])\r\n",
        "knn_grid = GridSearchCV(knn,knn_grid_parameters, cv=5, scoring='roc_auc',n_jobs=-1)\r\n",
        "knn_grid.fit(X_oversampled30_normalised,y_oversampled30)"
      ],
      "execution_count": null,
      "outputs": [
        {
          "output_type": "execute_result",
          "data": {
            "text/plain": [
              "GridSearchCV(cv=5, error_score=nan,\n",
              "             estimator=KNeighborsClassifier(algorithm='auto', leaf_size=30,\n",
              "                                            metric='minkowski',\n",
              "                                            metric_params=None, n_jobs=None,\n",
              "                                            n_neighbors=5, p=2,\n",
              "                                            weights='uniform'),\n",
              "             iid='deprecated', n_jobs=-1,\n",
              "             param_grid={'metric': ['euclidean', 'manhattan', 'chebyshev'],\n",
              "                         'n_neighbors': [3, 5, 7, 9, 11, 13, 15],\n",
              "                         'weights': ['uniform', 'distance']},\n",
              "             pre_dispatch='2*n_jobs', refit=True, return_train_score=False,\n",
              "             scoring='roc_auc', verbose=0)"
            ]
          },
          "metadata": {
            "tags": []
          },
          "execution_count": 24
        }
      ]
    },
    {
      "cell_type": "code",
      "metadata": {
        "colab": {
          "base_uri": "https://localhost:8080/"
        },
        "id": "2vpYTxwy-qPS",
        "outputId": "8ebe0c5d-5bd2-45d6-db05-c5b22720d7cf"
      },
      "source": [
        "print(knn_grid.best_score_)\r\n",
        "print(knn_grid.best_params_)\r\n",
        "print(knn_grid.)"
      ],
      "execution_count": null,
      "outputs": [
        {
          "output_type": "stream",
          "text": [
            "0.9877278067542201\n",
            "{'metric': 'manhattan', 'n_neighbors': 15, 'weights': 'distance'}\n",
            "KNeighborsClassifier(algorithm='auto', leaf_size=30, metric='minkowski',\n",
            "                     metric_params=None, n_jobs=None, n_neighbors=5, p=2,\n",
            "                     weights='uniform')\n"
          ],
          "name": "stdout"
        }
      ]
    },
    {
      "cell_type": "code",
      "metadata": {
        "id": "3f0ogDWb_-kE"
      },
      "source": [
        "y_knn_oversamling30 = knn_grid.predict(X_test_normalised)"
      ],
      "execution_count": null,
      "outputs": []
    },
    {
      "cell_type": "code",
      "metadata": {
        "id": "ErnJHahOAezW"
      },
      "source": [
        "create_SubmissionCSVFile(\"knn_oversamling30.csv\",y_knn_oversamling30)"
      ],
      "execution_count": null,
      "outputs": []
    },
    {
      "cell_type": "markdown",
      "metadata": {
        "id": "PRgbbOORndTX"
      },
      "source": [
        "## classification avec regression logistique(preceptron)\r\n",
        "\r\n"
      ]
    },
    {
      "cell_type": "markdown",
      "metadata": {
        "id": "d-RjE2scnw0Q"
      },
      "source": [
        "### sans le sur-échantillonnage "
      ]
    },
    {
      "cell_type": "code",
      "metadata": {
        "id": "qgdAUuqzAzcQ"
      },
      "source": [
        "lg = LogisticRegression(class_weight='balanced')\r\n",
        "\r\n",
        "cv_lg= cross_val_score(lg, X_train_normalised, y_train, cv = 5,scoring='roc_auc')"
      ],
      "execution_count": 73,
      "outputs": []
    },
    {
      "cell_type": "code",
      "metadata": {
        "colab": {
          "base_uri": "https://localhost:8080/"
        },
        "id": "Ex6fRBzLoIzg",
        "outputId": "896ede22-374e-4bfd-ca98-76c534807da8"
      },
      "source": [
        "print(cv_lg)\r\n",
        "print(cv_lg.mean())"
      ],
      "execution_count": 74,
      "outputs": [
        {
          "output_type": "stream",
          "text": [
            "[0.51564829 0.57584303 0.57859843 0.55359376 0.56040799]\n",
            "0.5568183016182595\n"
          ],
          "name": "stdout"
        }
      ]
    },
    {
      "cell_type": "markdown",
      "metadata": {
        "id": "o2ubg-f9qbfe"
      },
      "source": [
        "### avec le sur-échantillonnage"
      ]
    },
    {
      "cell_type": "code",
      "metadata": {
        "id": "-BoHGuz0oZPs"
      },
      "source": [
        "\r\n",
        "def testDifferentOversamplingRatiosForLogistic():\r\n",
        "  mean_scores=[]\r\n",
        "  ratios = [0.1,0.2,0.3,0.4]\r\n",
        "  lg = LogisticRegression()\r\n",
        "  for r in ratios:\r\n",
        "    oversamling = SMOTE(sampling_strategy=r)\r\n",
        "    X_oversampled, y_oversampled = oversamling.fit_resample(X_train, y_train)\r\n",
        "    X_oversampled = preprocessing.normalize(X_oversampled)\r\n",
        "    mean_scores.append((cross_val_score(lg, X_oversampled, y_oversampled, cv = 5,scoring='roc_auc')).mean())\r\n",
        "  return dict(zip(ratios,mean_scores))\r\n"
      ],
      "execution_count": 76,
      "outputs": []
    },
    {
      "cell_type": "code",
      "metadata": {
        "colab": {
          "base_uri": "https://localhost:8080/"
        },
        "id": "3xCrZeO2tSV6",
        "outputId": "b5cb83fb-7d21-4b45-e498-95c5894d4a05"
      },
      "source": [
        "logisticRegression_results  = testDifferentOversamplingRatiosForLogistic()"
      ],
      "execution_count": 77,
      "outputs": [
        {
          "output_type": "stream",
          "text": [
            "/usr/local/lib/python3.6/dist-packages/sklearn/utils/deprecation.py:87: FutureWarning: Function safe_indexing is deprecated; safe_indexing is deprecated in version 0.22 and will be removed in version 0.24.\n",
            "  warnings.warn(msg, category=FutureWarning)\n",
            "/usr/local/lib/python3.6/dist-packages/sklearn/utils/deprecation.py:87: FutureWarning: Function safe_indexing is deprecated; safe_indexing is deprecated in version 0.22 and will be removed in version 0.24.\n",
            "  warnings.warn(msg, category=FutureWarning)\n",
            "/usr/local/lib/python3.6/dist-packages/sklearn/utils/deprecation.py:87: FutureWarning: Function safe_indexing is deprecated; safe_indexing is deprecated in version 0.22 and will be removed in version 0.24.\n",
            "  warnings.warn(msg, category=FutureWarning)\n",
            "/usr/local/lib/python3.6/dist-packages/sklearn/utils/deprecation.py:87: FutureWarning: Function safe_indexing is deprecated; safe_indexing is deprecated in version 0.22 and will be removed in version 0.24.\n",
            "  warnings.warn(msg, category=FutureWarning)\n"
          ],
          "name": "stderr"
        }
      ]
    },
    {
      "cell_type": "code",
      "metadata": {
        "colab": {
          "base_uri": "https://localhost:8080/"
        },
        "id": "xQUE__i8taq6",
        "outputId": "90197f75-a9a3-4f91-9a0c-de813561b4e6"
      },
      "source": [
        "print(logisticRegression_results)"
      ],
      "execution_count": 78,
      "outputs": [
        {
          "output_type": "stream",
          "text": [
            "{0.1: 0.5709781977181082, 0.2: 0.5828432749895315, 0.3: 0.5792970707770937, 0.4: 0.5827910158455938}\n"
          ],
          "name": "stdout"
        }
      ]
    },
    {
      "cell_type": "markdown",
      "metadata": {
        "id": "P2dLuxh5wjeJ"
      },
      "source": [
        "le meilleur score est obtenue avec r = 0.2"
      ]
    },
    {
      "cell_type": "code",
      "metadata": {
        "id": "VQ-s_q_Gt7U4"
      },
      "source": [
        "def createLogistic_grid():\r\n",
        "\r\n",
        "  lg = LogisticRegression()\r\n",
        "  lg_grid_parameters = dict(class_weight=['balanced',{0:1,1:95},{0:1,1:90},{0:1,1:85},{0:1,1:80},{0:1,1:75},{0:1,1:70},{0:1,1:65},{0:1,1:60},{0:1,1:50},{0:2,1:90}])\r\n",
        "  lg_grid = GridSearchCV(lg,lg_grid_parameters, cv=2, scoring='roc_auc',n_jobs=-1)\r\n",
        "  lg_grid.fit(X_train_normalised,y_train)\r\n",
        " \r\n",
        "  return lg_grid\r\n"
      ],
      "execution_count": 186,
      "outputs": []
    },
    {
      "cell_type": "code",
      "metadata": {
        "colab": {
          "base_uri": "https://localhost:8080/"
        },
        "id": "mAtCPEn9EmIl",
        "outputId": "64d1114a-3ace-4d62-eec8-091d05cb1e42"
      },
      "source": [
        "logisticModel_grid = createLogistic_grid()\r\n",
        "logisticModel_grid.best_params_"
      ],
      "execution_count": 187,
      "outputs": [
        {
          "output_type": "execute_result",
          "data": {
            "text/plain": [
              "{'class_weight': {0: 1, 1: 65}}"
            ]
          },
          "metadata": {
            "tags": []
          },
          "execution_count": 187
        }
      ]
    },
    {
      "cell_type": "code",
      "metadata": {
        "colab": {
          "base_uri": "https://localhost:8080/"
        },
        "id": "egLqX_gtF6Lj",
        "outputId": "2aa97874-cc17-4078-f4f2-c22151b6263f"
      },
      "source": [
        "logisticModel_grid.best_score_"
      ],
      "execution_count": 188,
      "outputs": [
        {
          "output_type": "execute_result",
          "data": {
            "text/plain": [
              "0.5686562548423318"
            ]
          },
          "metadata": {
            "tags": []
          },
          "execution_count": 188
        }
      ]
    },
    {
      "cell_type": "code",
      "metadata": {
        "id": "VZ9h5ADzxay0"
      },
      "source": [
        "\r\n",
        "y_lg= logisticModel_grid.predict(X_test_normalised)\r\n"
      ],
      "execution_count": 185,
      "outputs": []
    },
    {
      "cell_type": "code",
      "metadata": {
        "id": "Nn7OYVaAxfKf"
      },
      "source": [
        "create_SubmissionCSVFile(\"logistic_regression_classifier.csv\",y_lg)"
      ],
      "execution_count": 168,
      "outputs": []
    },
    {
      "cell_type": "markdown",
      "metadata": {
        "id": "9TKuOePJkoTz"
      },
      "source": [
        "## réseaux de neurones\r\n"
      ]
    },
    {
      "cell_type": "markdown",
      "metadata": {
        "id": "v_QWGMpcvT8N"
      },
      "source": []
    },
    {
      "cell_type": "code",
      "metadata": {
        "id": "M27tj2zdvmtU"
      },
      "source": [
        "from keras.models import Sequential\r\n",
        "from keras.layers import Dense\r\n",
        "from sklearn.model_selection import train_test_split\r\n",
        "\r\n",
        "def create_Model():\r\n",
        "  model = Sequential()\r\n",
        "  model.add(Dense(6, input_dim=X_train.shape[1], activation='relu'))\r\n",
        "  model.add(Dense(6, activation='relu'))\r\n",
        "  model.add(Dense(1, activation='sigmoid'))\r\n",
        "\r\n",
        "  model.compile(loss='binary_crossentropy', optimizer='adam', metrics=['AUC'])\r\n",
        "  return model\r\n",
        "\r\n",
        "X_trainNN,X_valid,y_trainNN,y_valid =train_test_split(X_train_normalised, y_train, stratify = y_train, test_size = 0.2)\r\n",
        "\r\n",
        "\r\n"
      ],
      "execution_count": 114,
      "outputs": []
    },
    {
      "cell_type": "code",
      "metadata": {
        "colab": {
          "base_uri": "https://localhost:8080/"
        },
        "id": "jEwL2ACbIXPV",
        "outputId": "ef93dae3-ae61-4db8-f2fa-a43eb17ace79"
      },
      "source": [
        "model = create_Model()\r\n",
        "\r\n",
        "model.fit(X_trainNN,y_trainNN,class_weight={0:1, 1:100},epochs=10)"
      ],
      "execution_count": 115,
      "outputs": [
        {
          "output_type": "stream",
          "text": [
            "Epoch 1/10\n",
            "863/863 [==============================] - 2s 1ms/step - loss: 1.3554 - auc: 0.4821\n",
            "Epoch 2/10\n",
            "863/863 [==============================] - 1s 1ms/step - loss: 1.2155 - auc: 0.4530\n",
            "Epoch 3/10\n",
            "863/863 [==============================] - 1s 1ms/step - loss: 1.2670 - auc: 0.4735\n",
            "Epoch 4/10\n",
            "863/863 [==============================] - 1s 1ms/step - loss: 1.3342 - auc: 0.4743\n",
            "Epoch 5/10\n",
            "863/863 [==============================] - 1s 1ms/step - loss: 1.3316 - auc: 0.4641\n",
            "Epoch 6/10\n",
            "863/863 [==============================] - 1s 1ms/step - loss: 1.3204 - auc: 0.4788\n",
            "Epoch 7/10\n",
            "863/863 [==============================] - 1s 1ms/step - loss: 1.2246 - auc: 0.4848\n",
            "Epoch 8/10\n",
            "863/863 [==============================] - 1s 1ms/step - loss: 1.2427 - auc: 0.4989\n",
            "Epoch 9/10\n",
            "863/863 [==============================] - 1s 1ms/step - loss: 1.2698 - auc: 0.4825\n",
            "Epoch 10/10\n",
            "863/863 [==============================] - 1s 1ms/step - loss: 1.2509 - auc: 0.4616\n"
          ],
          "name": "stdout"
        },
        {
          "output_type": "execute_result",
          "data": {
            "text/plain": [
              "<tensorflow.python.keras.callbacks.History at 0x7f3ac22156a0>"
            ]
          },
          "metadata": {
            "tags": []
          },
          "execution_count": 115
        }
      ]
    },
    {
      "cell_type": "code",
      "metadata": {
        "colab": {
          "base_uri": "https://localhost:8080/"
        },
        "id": "Do_J3txDxJvk",
        "outputId": "9413c17e-d1f9-458e-dd85-203dc205bd39"
      },
      "source": [
        "model.evaluate(X_valid,y_valid)\r\n",
        "print(score)"
      ],
      "execution_count": 116,
      "outputs": [
        {
          "output_type": "stream",
          "text": [
            "216/216 [==============================] - 1s 1ms/step - loss: 0.6436 - auc: 0.5001\n",
            "0.5359172612743852\n"
          ],
          "name": "stdout"
        }
      ]
    },
    {
      "cell_type": "markdown",
      "metadata": {
        "id": "JjwiS8IxM1-e"
      },
      "source": [
        "### avec le sur-échantillonnage"
      ]
    },
    {
      "cell_type": "code",
      "metadata": {
        "id": "w48ctXk4KXJ_"
      },
      "source": [
        "def neuralnetwork_oversampling(ratio):\r\n",
        "\r\n",
        "  print(ratio)\r\n",
        "  oversamling = SMOTE(sampling_strategy=ratio)\r\n",
        "  X_oversampled, y_oversampled = oversamling.fit_resample(X_train, y_train)\r\n",
        "\r\n",
        "  X_oversampled = preprocessing.normalize(X_oversampled)\r\n",
        "\r\n",
        "  X_trainNN,X_valid,y_trainNN,y_valid =train_test_split(X_oversampled, y_oversampled, stratify = y_oversampled, test_size = 0.2)\r\n",
        "\r\n",
        "  model = create_Model()\r\n",
        "  model.fit(X_trainNN,y_trainNN,epochs=30)\r\n",
        "  \r\n",
        "\r\n",
        "  _,score = model.evaluate(X_valid,y_valid)\r\n",
        "\r\n",
        "  return score"
      ],
      "execution_count": 144,
      "outputs": []
    },
    {
      "cell_type": "code",
      "metadata": {
        "colab": {
          "base_uri": "https://localhost:8080/"
        },
        "id": "kpCHH5TYND8j",
        "outputId": "b5ab4eab-46da-4d7b-c02c-8b1df60a1ccc"
      },
      "source": [
        "oversamling_scores=[]\r\n",
        "ratios = [0.1,0.2,0.3]\r\n",
        "\r\n",
        "for r in ratios :\r\n",
        "  oversamling_scores.append(neuralnetwork_oversampling(r))\r\n",
        "\r\n",
        "d = dict(zip(ratios,oversamling_scores))"
      ],
      "execution_count": 145,
      "outputs": [
        {
          "output_type": "stream",
          "text": [
            "0.1\n",
            "Epoch 1/30\n"
          ],
          "name": "stdout"
        },
        {
          "output_type": "stream",
          "text": [
            "/usr/local/lib/python3.6/dist-packages/sklearn/utils/deprecation.py:87: FutureWarning: Function safe_indexing is deprecated; safe_indexing is deprecated in version 0.22 and will be removed in version 0.24.\n",
            "  warnings.warn(msg, category=FutureWarning)\n"
          ],
          "name": "stderr"
        },
        {
          "output_type": "stream",
          "text": [
            "941/941 [==============================] - 2s 1ms/step - loss: 0.3917 - auc: 0.4984\n",
            "Epoch 2/30\n",
            "941/941 [==============================] - 1s 1ms/step - loss: 0.3056 - auc: 0.4549\n",
            "Epoch 3/30\n",
            "941/941 [==============================] - 1s 1ms/step - loss: 0.3094 - auc: 0.4730\n",
            "Epoch 4/30\n",
            "941/941 [==============================] - 1s 1ms/step - loss: 0.3034 - auc: 0.4688\n",
            "Epoch 5/30\n",
            "941/941 [==============================] - 1s 1ms/step - loss: 0.3047 - auc: 0.4774\n",
            "Epoch 6/30\n",
            "941/941 [==============================] - 1s 1ms/step - loss: 0.3097 - auc: 0.4750\n",
            "Epoch 7/30\n",
            "941/941 [==============================] - 1s 1ms/step - loss: 0.3035 - auc: 0.4683\n",
            "Epoch 8/30\n",
            "941/941 [==============================] - 1s 1ms/step - loss: 0.3038 - auc: 0.4642\n",
            "Epoch 9/30\n",
            "941/941 [==============================] - 1s 1ms/step - loss: 0.3130 - auc: 0.4781\n",
            "Epoch 10/30\n",
            "941/941 [==============================] - 1s 1ms/step - loss: 0.3032 - auc: 0.4721\n",
            "Epoch 11/30\n",
            "941/941 [==============================] - 1s 1ms/step - loss: 0.3011 - auc: 0.4810\n",
            "Epoch 12/30\n",
            "941/941 [==============================] - 1s 1ms/step - loss: 0.3038 - auc: 0.4876\n",
            "Epoch 13/30\n",
            "941/941 [==============================] - 1s 1ms/step - loss: 0.3063 - auc: 0.4912\n",
            "Epoch 14/30\n",
            "941/941 [==============================] - 1s 1ms/step - loss: 0.3092 - auc: 0.4967\n",
            "Epoch 15/30\n",
            "941/941 [==============================] - 1s 1ms/step - loss: 0.2965 - auc: 0.4980\n",
            "Epoch 16/30\n",
            "941/941 [==============================] - 1s 1ms/step - loss: 0.3026 - auc: 0.4928\n",
            "Epoch 17/30\n",
            "941/941 [==============================] - 1s 1ms/step - loss: 0.3079 - auc: 0.4913\n",
            "Epoch 18/30\n",
            "941/941 [==============================] - 1s 1ms/step - loss: 0.3052 - auc: 0.5047\n",
            "Epoch 19/30\n",
            "941/941 [==============================] - 1s 1ms/step - loss: 0.3008 - auc: 0.4996\n",
            "Epoch 20/30\n",
            "941/941 [==============================] - 1s 1ms/step - loss: 0.2980 - auc: 0.5129\n",
            "Epoch 21/30\n",
            "941/941 [==============================] - 1s 1ms/step - loss: 0.3035 - auc: 0.5052\n",
            "Epoch 22/30\n",
            "941/941 [==============================] - 1s 1ms/step - loss: 0.3067 - auc: 0.5148\n",
            "Epoch 23/30\n",
            "941/941 [==============================] - 1s 1ms/step - loss: 0.3007 - auc: 0.5023\n",
            "Epoch 24/30\n",
            "941/941 [==============================] - 1s 1ms/step - loss: 0.3081 - auc: 0.5082\n",
            "Epoch 25/30\n",
            "941/941 [==============================] - 1s 1ms/step - loss: 0.3037 - auc: 0.5116\n",
            "Epoch 26/30\n",
            "941/941 [==============================] - 1s 1ms/step - loss: 0.3064 - auc: 0.5209\n",
            "Epoch 27/30\n",
            "941/941 [==============================] - 1s 1ms/step - loss: 0.3001 - auc: 0.5239\n",
            "Epoch 28/30\n",
            "941/941 [==============================] - 1s 1ms/step - loss: 0.3059 - auc: 0.5188\n",
            "Epoch 29/30\n",
            "941/941 [==============================] - 1s 1ms/step - loss: 0.3047 - auc: 0.5265\n",
            "Epoch 30/30\n",
            "941/941 [==============================] - 1s 1ms/step - loss: 0.2990 - auc: 0.5239\n",
            "236/236 [==============================] - 0s 1ms/step - loss: 0.3043 - auc: 0.5609\n",
            "0.2\n",
            "Epoch 1/30\n"
          ],
          "name": "stdout"
        },
        {
          "output_type": "stream",
          "text": [
            "/usr/local/lib/python3.6/dist-packages/sklearn/utils/deprecation.py:87: FutureWarning: Function safe_indexing is deprecated; safe_indexing is deprecated in version 0.22 and will be removed in version 0.24.\n",
            "  warnings.warn(msg, category=FutureWarning)\n"
          ],
          "name": "stderr"
        },
        {
          "output_type": "stream",
          "text": [
            "1027/1027 [==============================] - 2s 1ms/step - loss: 0.4526 - auc: 0.5011\n",
            "Epoch 2/30\n",
            "1027/1027 [==============================] - 1s 1ms/step - loss: 0.4518 - auc: 0.5034\n",
            "Epoch 3/30\n",
            "1027/1027 [==============================] - 1s 1ms/step - loss: 0.4498 - auc: 0.5157\n",
            "Epoch 4/30\n",
            "1027/1027 [==============================] - 1s 1ms/step - loss: 0.4502 - auc: 0.5163\n",
            "Epoch 5/30\n",
            "1027/1027 [==============================] - 1s 1ms/step - loss: 0.4522 - auc: 0.5165\n",
            "Epoch 6/30\n",
            "1027/1027 [==============================] - 1s 1ms/step - loss: 0.4493 - auc: 0.5154\n",
            "Epoch 7/30\n",
            "1027/1027 [==============================] - 1s 1ms/step - loss: 0.4480 - auc: 0.5155\n",
            "Epoch 8/30\n",
            "1027/1027 [==============================] - 1s 1ms/step - loss: 0.4497 - auc: 0.5234\n",
            "Epoch 9/30\n",
            "1027/1027 [==============================] - 1s 1ms/step - loss: 0.4468 - auc: 0.5279\n",
            "Epoch 10/30\n",
            "1027/1027 [==============================] - 1s 1ms/step - loss: 0.4515 - auc: 0.5337\n",
            "Epoch 11/30\n",
            "1027/1027 [==============================] - 1s 1ms/step - loss: 0.4551 - auc: 0.5270\n",
            "Epoch 12/30\n",
            "1027/1027 [==============================] - 1s 1ms/step - loss: 0.4509 - auc: 0.5332\n",
            "Epoch 13/30\n",
            "1027/1027 [==============================] - 1s 1ms/step - loss: 0.4456 - auc: 0.5380\n",
            "Epoch 14/30\n",
            "1027/1027 [==============================] - 1s 1ms/step - loss: 0.4484 - auc: 0.5398\n",
            "Epoch 15/30\n",
            "1027/1027 [==============================] - 1s 1ms/step - loss: 0.4502 - auc: 0.5419\n",
            "Epoch 16/30\n",
            "1027/1027 [==============================] - 1s 1ms/step - loss: 0.4493 - auc: 0.5467\n",
            "Epoch 17/30\n",
            "1027/1027 [==============================] - 1s 1ms/step - loss: 0.4526 - auc: 0.5468\n",
            "Epoch 18/30\n",
            "1027/1027 [==============================] - 1s 1ms/step - loss: 0.4462 - auc: 0.5451\n",
            "Epoch 19/30\n",
            "1027/1027 [==============================] - 1s 1ms/step - loss: 0.4484 - auc: 0.5561\n",
            "Epoch 20/30\n",
            "1027/1027 [==============================] - 1s 1ms/step - loss: 0.4498 - auc: 0.5442\n",
            "Epoch 21/30\n",
            "1027/1027 [==============================] - 1s 1ms/step - loss: 0.4502 - auc: 0.5623\n",
            "Epoch 22/30\n",
            "1027/1027 [==============================] - 1s 1ms/step - loss: 0.4460 - auc: 0.5566\n",
            "Epoch 23/30\n",
            "1027/1027 [==============================] - 1s 1ms/step - loss: 0.4521 - auc: 0.5649\n",
            "Epoch 24/30\n",
            "1027/1027 [==============================] - 1s 1ms/step - loss: 0.4505 - auc: 0.5662\n",
            "Epoch 25/30\n",
            "1027/1027 [==============================] - 1s 1ms/step - loss: 0.4464 - auc: 0.5592\n",
            "Epoch 26/30\n",
            "1027/1027 [==============================] - 1s 1ms/step - loss: 0.4485 - auc: 0.5695\n",
            "Epoch 27/30\n",
            "1027/1027 [==============================] - 1s 1ms/step - loss: 0.4461 - auc: 0.5751\n",
            "Epoch 28/30\n",
            "1027/1027 [==============================] - 1s 1ms/step - loss: 0.4457 - auc: 0.5645\n",
            "Epoch 29/30\n",
            "1027/1027 [==============================] - 1s 1ms/step - loss: 0.4483 - auc: 0.5658\n",
            "Epoch 30/30\n",
            "1027/1027 [==============================] - 1s 1ms/step - loss: 0.4464 - auc: 0.5775\n",
            "257/257 [==============================] - 0s 1ms/step - loss: 0.4468 - auc: 0.5732\n",
            "0.3\n",
            "Epoch 1/30\n"
          ],
          "name": "stdout"
        },
        {
          "output_type": "stream",
          "text": [
            "/usr/local/lib/python3.6/dist-packages/sklearn/utils/deprecation.py:87: FutureWarning: Function safe_indexing is deprecated; safe_indexing is deprecated in version 0.22 and will be removed in version 0.24.\n",
            "  warnings.warn(msg, category=FutureWarning)\n"
          ],
          "name": "stderr"
        },
        {
          "output_type": "stream",
          "text": [
            "1112/1112 [==============================] - 2s 1ms/step - loss: 0.5559 - auc: 0.5115\n",
            "Epoch 2/30\n",
            "1112/1112 [==============================] - 1s 1ms/step - loss: 0.5374 - auc: 0.5254\n",
            "Epoch 3/30\n",
            "1112/1112 [==============================] - 1s 1ms/step - loss: 0.5398 - auc: 0.5258\n",
            "Epoch 4/30\n",
            "1112/1112 [==============================] - 1s 1ms/step - loss: 0.5362 - auc: 0.5432\n",
            "Epoch 5/30\n",
            "1112/1112 [==============================] - 1s 1ms/step - loss: 0.5422 - auc: 0.5446\n",
            "Epoch 6/30\n",
            "1112/1112 [==============================] - 1s 1ms/step - loss: 0.5395 - auc: 0.5475\n",
            "Epoch 7/30\n",
            "1112/1112 [==============================] - 1s 1ms/step - loss: 0.5359 - auc: 0.5466\n",
            "Epoch 8/30\n",
            "1112/1112 [==============================] - 1s 1ms/step - loss: 0.5357 - auc: 0.5599\n",
            "Epoch 9/30\n",
            "1112/1112 [==============================] - 1s 1ms/step - loss: 0.5407 - auc: 0.5628\n",
            "Epoch 10/30\n",
            "1112/1112 [==============================] - 1s 1ms/step - loss: 0.5372 - auc: 0.5651\n",
            "Epoch 11/30\n",
            "1112/1112 [==============================] - 1s 1ms/step - loss: 0.5382 - auc: 0.5650\n",
            "Epoch 12/30\n",
            "1112/1112 [==============================] - 1s 1ms/step - loss: 0.5371 - auc: 0.5766\n",
            "Epoch 13/30\n",
            "1112/1112 [==============================] - 1s 1ms/step - loss: 0.5348 - auc: 0.5753\n",
            "Epoch 14/30\n",
            "1112/1112 [==============================] - 1s 1ms/step - loss: 0.5280 - auc: 0.5826\n",
            "Epoch 15/30\n",
            "1112/1112 [==============================] - 1s 1ms/step - loss: 0.5329 - auc: 0.5811\n",
            "Epoch 16/30\n",
            "1112/1112 [==============================] - 1s 1ms/step - loss: 0.5340 - auc: 0.5772\n",
            "Epoch 17/30\n",
            "1112/1112 [==============================] - 1s 1ms/step - loss: 0.5310 - auc: 0.5873\n",
            "Epoch 18/30\n",
            "1112/1112 [==============================] - 1s 1ms/step - loss: 0.5309 - auc: 0.5848\n",
            "Epoch 19/30\n",
            "1112/1112 [==============================] - 1s 1ms/step - loss: 0.5272 - auc: 0.5896\n",
            "Epoch 20/30\n",
            "1112/1112 [==============================] - 1s 1ms/step - loss: 0.5298 - auc: 0.5932\n",
            "Epoch 21/30\n",
            "1112/1112 [==============================] - 1s 1ms/step - loss: 0.5317 - auc: 0.5901\n",
            "Epoch 22/30\n",
            "1112/1112 [==============================] - 1s 1ms/step - loss: 0.5286 - auc: 0.5920\n",
            "Epoch 23/30\n",
            "1112/1112 [==============================] - 2s 1ms/step - loss: 0.5327 - auc: 0.5845\n",
            "Epoch 24/30\n",
            "1112/1112 [==============================] - 2s 1ms/step - loss: 0.5297 - auc: 0.5893\n",
            "Epoch 25/30\n",
            "1112/1112 [==============================] - 2s 1ms/step - loss: 0.5274 - auc: 0.5963\n",
            "Epoch 26/30\n",
            "1112/1112 [==============================] - 1s 1ms/step - loss: 0.5258 - auc: 0.5985\n",
            "Epoch 27/30\n",
            "1112/1112 [==============================] - 1s 1ms/step - loss: 0.5255 - auc: 0.5928\n",
            "Epoch 28/30\n",
            "1112/1112 [==============================] - 1s 1ms/step - loss: 0.5299 - auc: 0.6037\n",
            "Epoch 29/30\n",
            "1112/1112 [==============================] - 1s 1ms/step - loss: 0.5255 - auc: 0.6026\n",
            "Epoch 30/30\n",
            "1112/1112 [==============================] - 1s 1ms/step - loss: 0.5292 - auc: 0.5938\n",
            "278/278 [==============================] - 1s 1ms/step - loss: 0.5273 - auc: 0.6009\n"
          ],
          "name": "stdout"
        }
      ]
    },
    {
      "cell_type": "code",
      "metadata": {
        "colab": {
          "base_uri": "https://localhost:8080/"
        },
        "id": "A9QwRyzLNi7H",
        "outputId": "07131a98-07db-4ea9-c5d0-119d8ac2ccc1"
      },
      "source": [
        "print(d)"
      ],
      "execution_count": 146,
      "outputs": [
        {
          "output_type": "stream",
          "text": [
            "{0.1: 0.5609431266784668, 0.2: 0.5731745362281799, 0.3: 0.6008938550949097}\n"
          ],
          "name": "stdout"
        }
      ]
    },
    {
      "cell_type": "markdown",
      "metadata": {
        "id": "rTZ7jFNPODyA"
      },
      "source": [
        "le meilleur score est obtenue avec un ratio de sur-échantillonnage = 0.3\r\n"
      ]
    },
    {
      "cell_type": "code",
      "metadata": {
        "colab": {
          "base_uri": "https://localhost:8080/"
        },
        "id": "eoOApnYWOANP",
        "outputId": "7ebc50ed-afea-4567-98f7-a857dbf0c005"
      },
      "source": [
        "oversamling = SMOTE(sampling_strategy=0.3)\r\n",
        "X_oversampled, y_oversampled = oversamling.fit_resample(X_train, y_train)\r\n",
        "\r\n",
        "X_oversampled = preprocessing.normalize(X_oversampled)\r\n",
        "\r\n",
        "X_trainNN,X_valid,y_trainNN,y_valid =train_test_split(X_oversampled, y_oversampled, stratify = y_oversampled, test_size = 0.2)\r\n",
        "\r\n",
        "model = create_Model()\r\n",
        "model.fit(X_trainNN,y_trainNN,epochs=50)"
      ],
      "execution_count": 148,
      "outputs": [
        {
          "output_type": "stream",
          "text": [
            "/usr/local/lib/python3.6/dist-packages/sklearn/utils/deprecation.py:87: FutureWarning: Function safe_indexing is deprecated; safe_indexing is deprecated in version 0.22 and will be removed in version 0.24.\n",
            "  warnings.warn(msg, category=FutureWarning)\n"
          ],
          "name": "stderr"
        },
        {
          "output_type": "stream",
          "text": [
            "Epoch 1/50\n",
            "1112/1112 [==============================] - 2s 1ms/step - loss: 0.6132 - auc: 0.4996\n",
            "Epoch 2/50\n",
            "1112/1112 [==============================] - 1s 1ms/step - loss: 0.5395 - auc: 0.4910\n",
            "Epoch 3/50\n",
            "1112/1112 [==============================] - 1s 1ms/step - loss: 0.5400 - auc: 0.4974\n",
            "Epoch 4/50\n",
            "1112/1112 [==============================] - 1s 1ms/step - loss: 0.5417 - auc: 0.4959\n",
            "Epoch 5/50\n",
            "1112/1112 [==============================] - 1s 1ms/step - loss: 0.5378 - auc: 0.4979\n",
            "Epoch 6/50\n",
            "1112/1112 [==============================] - 1s 1ms/step - loss: 0.5403 - auc: 0.5087\n",
            "Epoch 7/50\n",
            "1112/1112 [==============================] - 1s 1ms/step - loss: 0.5343 - auc: 0.5114\n",
            "Epoch 8/50\n",
            "1112/1112 [==============================] - 1s 1ms/step - loss: 0.5407 - auc: 0.5218\n",
            "Epoch 9/50\n",
            "1112/1112 [==============================] - 1s 1ms/step - loss: 0.5406 - auc: 0.5225\n",
            "Epoch 10/50\n",
            "1112/1112 [==============================] - 1s 1ms/step - loss: 0.5375 - auc: 0.5257\n",
            "Epoch 11/50\n",
            "1112/1112 [==============================] - 1s 1ms/step - loss: 0.5408 - auc: 0.5303\n",
            "Epoch 12/50\n",
            "1112/1112 [==============================] - 1s 1ms/step - loss: 0.5395 - auc: 0.5347\n",
            "Epoch 13/50\n",
            "1112/1112 [==============================] - 1s 1ms/step - loss: 0.5349 - auc: 0.5354\n",
            "Epoch 14/50\n",
            "1112/1112 [==============================] - 1s 1ms/step - loss: 0.5395 - auc: 0.5326\n",
            "Epoch 15/50\n",
            "1112/1112 [==============================] - 1s 1ms/step - loss: 0.5375 - auc: 0.5478\n",
            "Epoch 16/50\n",
            "1112/1112 [==============================] - 1s 1ms/step - loss: 0.5368 - auc: 0.5465\n",
            "Epoch 17/50\n",
            "1112/1112 [==============================] - 1s 1ms/step - loss: 0.5417 - auc: 0.5478\n",
            "Epoch 18/50\n",
            "1112/1112 [==============================] - 1s 1ms/step - loss: 0.5365 - auc: 0.5519\n",
            "Epoch 19/50\n",
            "1112/1112 [==============================] - 1s 1ms/step - loss: 0.5421 - auc: 0.5590\n",
            "Epoch 20/50\n",
            "1112/1112 [==============================] - 1s 1ms/step - loss: 0.5404 - auc: 0.5585\n",
            "Epoch 21/50\n",
            "1112/1112 [==============================] - 1s 1ms/step - loss: 0.5362 - auc: 0.5625\n",
            "Epoch 22/50\n",
            "1112/1112 [==============================] - 1s 1ms/step - loss: 0.5356 - auc: 0.5615\n",
            "Epoch 23/50\n",
            "1112/1112 [==============================] - 1s 1ms/step - loss: 0.5339 - auc: 0.5637\n",
            "Epoch 24/50\n",
            "1112/1112 [==============================] - 1s 1ms/step - loss: 0.5367 - auc: 0.5710\n",
            "Epoch 25/50\n",
            "1112/1112 [==============================] - 1s 1ms/step - loss: 0.5336 - auc: 0.5761\n",
            "Epoch 26/50\n",
            "1112/1112 [==============================] - 1s 1ms/step - loss: 0.5300 - auc: 0.5744\n",
            "Epoch 27/50\n",
            "1112/1112 [==============================] - 1s 1ms/step - loss: 0.5337 - auc: 0.5829\n",
            "Epoch 28/50\n",
            "1112/1112 [==============================] - 1s 1ms/step - loss: 0.5342 - auc: 0.5815\n",
            "Epoch 29/50\n",
            "1112/1112 [==============================] - 1s 1ms/step - loss: 0.5345 - auc: 0.5830\n",
            "Epoch 30/50\n",
            "1112/1112 [==============================] - 1s 1ms/step - loss: 0.5288 - auc: 0.5856\n",
            "Epoch 31/50\n",
            "1112/1112 [==============================] - 1s 1ms/step - loss: 0.5293 - auc: 0.5888\n",
            "Epoch 32/50\n",
            "1112/1112 [==============================] - 1s 1ms/step - loss: 0.5285 - auc: 0.5797\n",
            "Epoch 33/50\n",
            "1112/1112 [==============================] - 1s 1ms/step - loss: 0.5307 - auc: 0.5888\n",
            "Epoch 34/50\n",
            "1112/1112 [==============================] - 1s 1ms/step - loss: 0.5286 - auc: 0.5895\n",
            "Epoch 35/50\n",
            "1112/1112 [==============================] - 1s 1ms/step - loss: 0.5334 - auc: 0.5897\n",
            "Epoch 36/50\n",
            "1112/1112 [==============================] - 1s 1ms/step - loss: 0.5264 - auc: 0.5970\n",
            "Epoch 37/50\n",
            "1112/1112 [==============================] - 1s 1ms/step - loss: 0.5301 - auc: 0.5970\n",
            "Epoch 38/50\n",
            "1112/1112 [==============================] - 1s 1ms/step - loss: 0.5287 - auc: 0.5916\n",
            "Epoch 39/50\n",
            "1112/1112 [==============================] - 1s 1ms/step - loss: 0.5272 - auc: 0.5955\n",
            "Epoch 40/50\n",
            "1112/1112 [==============================] - 1s 1ms/step - loss: 0.5321 - auc: 0.5944\n",
            "Epoch 41/50\n",
            "1112/1112 [==============================] - 1s 1ms/step - loss: 0.5311 - auc: 0.5969\n",
            "Epoch 42/50\n",
            "1112/1112 [==============================] - 1s 1ms/step - loss: 0.5278 - auc: 0.5959\n",
            "Epoch 43/50\n",
            "1112/1112 [==============================] - 1s 1ms/step - loss: 0.5278 - auc: 0.5970\n",
            "Epoch 44/50\n",
            "1112/1112 [==============================] - 1s 1ms/step - loss: 0.5260 - auc: 0.5975\n",
            "Epoch 45/50\n",
            "1112/1112 [==============================] - 1s 1ms/step - loss: 0.5275 - auc: 0.5990\n",
            "Epoch 46/50\n",
            "1112/1112 [==============================] - 1s 1ms/step - loss: 0.5258 - auc: 0.6076\n",
            "Epoch 47/50\n",
            "1112/1112 [==============================] - 1s 1ms/step - loss: 0.5297 - auc: 0.5989\n",
            "Epoch 48/50\n",
            "1112/1112 [==============================] - 1s 1ms/step - loss: 0.5285 - auc: 0.6001\n",
            "Epoch 49/50\n",
            "1112/1112 [==============================] - 1s 1ms/step - loss: 0.5299 - auc: 0.5995\n",
            "Epoch 50/50\n",
            "1112/1112 [==============================] - 1s 1ms/step - loss: 0.5242 - auc: 0.6035\n"
          ],
          "name": "stdout"
        },
        {
          "output_type": "execute_result",
          "data": {
            "text/plain": [
              "<tensorflow.python.keras.callbacks.History at 0x7f3a5a602208>"
            ]
          },
          "metadata": {
            "tags": []
          },
          "execution_count": 148
        }
      ]
    },
    {
      "cell_type": "code",
      "metadata": {
        "id": "1crIMqDBOati"
      },
      "source": [
        "y_nn = model.predict(X_test_normalised)\r\n",
        "  "
      ],
      "execution_count": 180,
      "outputs": []
    },
    {
      "cell_type": "code",
      "metadata": {
        "id": "7eBeRg3zTI5K"
      },
      "source": [
        "y_nn[y_nn<0.3]=0 \r\n",
        "y_nn[y_nn>0.3]=1\r\n",
        "y_nn = y_nn.flatten().astype('int32')"
      ],
      "execution_count": 181,
      "outputs": []
    },
    {
      "cell_type": "code",
      "metadata": {
        "id": "NxKR3XTZVxUZ"
      },
      "source": [
        "create_SubmissionCSVFile(\"neural_network_oversampling30.csv\",y_nn)"
      ],
      "execution_count": 183,
      "outputs": []
    }
  ]
}